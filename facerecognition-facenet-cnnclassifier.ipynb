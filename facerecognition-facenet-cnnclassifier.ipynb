{
 "cells": [
  {
   "cell_type": "code",
   "execution_count": 1,
   "id": "61ae2099",
   "metadata": {
    "_cell_guid": "b1076dfc-b9ad-4769-8c92-a6c4dae69d19",
    "_uuid": "8f2839f25d086af736a60e9eeb907d3b93b6e0e5",
    "execution": {
     "iopub.execute_input": "2021-07-18T12:28:13.421702Z",
     "iopub.status.busy": "2021-07-18T12:28:13.420395Z",
     "iopub.status.idle": "2021-07-18T12:28:13.465312Z",
     "shell.execute_reply": "2021-07-18T12:28:13.464470Z",
     "shell.execute_reply.started": "2021-07-18T12:25:05.728271Z"
    },
    "papermill": {
     "duration": 0.100489,
     "end_time": "2021-07-18T12:28:13.465485",
     "exception": false,
     "start_time": "2021-07-18T12:28:13.364996",
     "status": "completed"
    },
    "tags": []
   },
   "outputs": [
    {
     "name": "stdout",
     "output_type": "stream",
     "text": [
      "/kaggle/input/facenet-keras/facenet_keras.h5\n",
      "/kaggle/input/face-recognition/ORL_faces.npz\n"
     ]
    }
   ],
   "source": [
    "# This Python 3 environment comes with many helpful analytics libraries installed\n",
    "# It is defined by the kaggle/python Docker image: https://github.com/kaggle/docker-python\n",
    "# For example, here's several helpful packages to load\n",
    "\n",
    "import numpy as np # linear algebra\n",
    "import pandas as pd # data processing, CSV file I/O (e.g. pd.read_csv)\n",
    "\n",
    "# Input data files are available in the read-only \"../input/\" directory\n",
    "# For example, running this (by clicking run or pressing Shift+Enter) will list all files under the input directory\n",
    "\n",
    "import os\n",
    "for dirname, _, filenames in os.walk('/kaggle/input'):\n",
    "    for filename in filenames:\n",
    "        print(os.path.join(dirname, filename))\n",
    "\n",
    "# You can write up to 20GB to the current directory (/kaggle/working/) that gets preserved as output when you create a version using \"Save & Run All\" \n",
    "# You can also write temporary files to /kaggle/temp/, but they won't be saved outside of the current session"
   ]
  },
  {
   "cell_type": "markdown",
   "id": "8fdefe49",
   "metadata": {
    "execution": {
     "iopub.execute_input": "2021-07-14T18:12:19.285057Z",
     "iopub.status.busy": "2021-07-14T18:12:19.284664Z",
     "iopub.status.idle": "2021-07-14T18:12:19.299014Z",
     "shell.execute_reply": "2021-07-14T18:12:19.297306Z",
     "shell.execute_reply.started": "2021-07-14T18:12:19.285025Z"
    },
    "papermill": {
     "duration": 0.048288,
     "end_time": "2021-07-18T12:28:13.586745",
     "exception": false,
     "start_time": "2021-07-18T12:28:13.538457",
     "status": "completed"
    },
    "tags": []
   },
   "source": [
    "## Table of Contents\n",
    "\n",
    "- [1 - Import Libraries and Load Data](#1)\n",
    "- [2 - Problem Statement](#2)\n",
    "- [3 - Loading Data](#3)\n",
    "    - [3.1 - Basic exploration of the npz file content](#3-1)\n",
    "    - [3.2 - Reshape the data and plot random images](#3-2)\n",
    "    - [3.3 - Visualize the Faces](#3-3)\n",
    "- [4 - Approach 1: Generate Embeddings using the FaceNet Model](#4)\n",
    "    - [4.1 - Use Support Vector Machines to classify the face embeddings vectors](#4-1)       \n",
    "- [5 - Approach 2: Face Classification using the normal image classification way](#5)\n",
    "    - [5.1 Define the Functional API based Model Architecture](#5-1)\n",
    "    - [5.2 Define Custom Callback](#5-2)\n",
    "    - [5.3 Train the Model](#5-3)\n",
    "    - [5.4 - Visualize the Model Performance](#5-4)\n",
    "- [6 - Conclusion)](#6)\n"
   ]
  },
  {
   "cell_type": "markdown",
   "id": "d6aff48c",
   "metadata": {
    "papermill": {
     "duration": 0.045321,
     "end_time": "2021-07-18T12:28:13.677369",
     "exception": false,
     "start_time": "2021-07-18T12:28:13.632048",
     "status": "completed"
    },
    "tags": []
   },
   "source": [
    "<a name='1'></a>\n",
    "## _1 - Import Libraries_"
   ]
  },
  {
   "cell_type": "code",
   "execution_count": 2,
   "id": "910f6af2",
   "metadata": {
    "execution": {
     "iopub.execute_input": "2021-07-18T12:28:13.778564Z",
     "iopub.status.busy": "2021-07-18T12:28:13.777062Z",
     "iopub.status.idle": "2021-07-18T12:28:14.101707Z",
     "shell.execute_reply": "2021-07-18T12:28:14.101149Z",
     "shell.execute_reply.started": "2021-07-18T12:25:05.740352Z"
    },
    "papermill": {
     "duration": 0.379,
     "end_time": "2021-07-18T12:28:14.101849",
     "exception": false,
     "start_time": "2021-07-18T12:28:13.722849",
     "status": "completed"
    },
    "tags": []
   },
   "outputs": [],
   "source": [
    "#base libraries for data handling\n",
    "import os\n",
    "import sys\n",
    "import numpy as np\n",
    "import pandas as pd\n",
    "#visualization imports\n",
    "import matplotlib.pyplot as plt\n",
    "%matplotlib inline\n",
    "import cv2\n",
    "# consistent plots #\n",
    "from pylab import rcParams\n",
    "rcParams['figure.figsize']= 12,5\n",
    "rcParams['xtick.labelsize']= 12\n",
    "rcParams['ytick.labelsize']= 12\n",
    "rcParams['axes.labelsize']= 12\n",
    "#handle unwanted warnings\n",
    "import warnings\n",
    "warnings.filterwarnings(action='ignore',category=DeprecationWarning)\n",
    "warnings.filterwarnings(action='ignore',category=FutureWarning)"
   ]
  },
  {
   "cell_type": "markdown",
   "id": "526456bf",
   "metadata": {
    "papermill": {
     "duration": 0.045549,
     "end_time": "2021-07-18T12:28:14.193148",
     "exception": false,
     "start_time": "2021-07-18T12:28:14.147599",
     "status": "completed"
    },
    "tags": []
   },
   "source": [
    "<a name='2'></a>\n",
    "# _2 - Problem Statement_\n",
    "\n",
    "DESCRIPTION\n",
    "\n",
    "Problem Statement:\n",
    "Facial recognition is a biometric alternative that measures unique characteristics of a human\n",
    "face. Applications available today include flight check in, tagging friends and family members in\n",
    "photos, and “tailored” advertising. You are a computer vision engineer who needs to develop a\n",
    "face recognition programme with deep convolutional neural networks.\n",
    "Objective: Use a deep convolutional neural network to perform facial recognition using Keras.\n",
    "Dataset Details:\n",
    "ORL face database composed of 400 images of size 112 x 92. There are 40 people, 10 images\n",
    "per person. The images were taken at different times, lighting and facial expressions. The faces\n",
    "are in an upright position in frontal view, with a slight left-right rotation.\n",
    "\n",
    "\n",
    "Steps to be followed:\n",
    "1. Input the required libraries\n",
    "2. Load the dataset after loading the dataset, you have to normalize every image.\n",
    "3. Split the dataset\n",
    "4. Transform the images to equal sizes to feed in CNN\n",
    "5. Build a CNN model that has 3 main layers:\n",
    "- i. Convolutional Layer\n",
    "- ii. Pooling Layer\n",
    "- iii. Fully Connected Layer\n",
    "6. Train the model\n",
    "7. Plot the result\n",
    "8. Iterate the model until the accuracy is above 90%"
   ]
  },
  {
   "cell_type": "markdown",
   "id": "6046e50c",
   "metadata": {
    "papermill": {
     "duration": 0.04524,
     "end_time": "2021-07-18T12:28:14.284269",
     "exception": false,
     "start_time": "2021-07-18T12:28:14.239029",
     "status": "completed"
    },
    "tags": []
   },
   "source": [
    "<a name='3'></a>\n",
    "## _3 - Loading Data_"
   ]
  },
  {
   "cell_type": "code",
   "execution_count": 3,
   "id": "df753b9b",
   "metadata": {
    "execution": {
     "iopub.execute_input": "2021-07-18T12:28:14.380544Z",
     "iopub.status.busy": "2021-07-18T12:28:14.379769Z",
     "iopub.status.idle": "2021-07-18T12:28:14.408688Z",
     "shell.execute_reply": "2021-07-18T12:28:14.407906Z",
     "shell.execute_reply.started": "2021-07-18T12:25:05.755535Z"
    },
    "papermill": {
     "duration": 0.079283,
     "end_time": "2021-07-18T12:28:14.408852",
     "exception": false,
     "start_time": "2021-07-18T12:28:14.329569",
     "status": "completed"
    },
    "tags": []
   },
   "outputs": [],
   "source": [
    "#load the data -- > .npz format\n",
    "data = np.load('/kaggle/input/face-recognition/ORL_faces.npz')"
   ]
  },
  {
   "cell_type": "code",
   "execution_count": 4,
   "id": "85841d27",
   "metadata": {
    "execution": {
     "iopub.execute_input": "2021-07-18T12:28:14.510676Z",
     "iopub.status.busy": "2021-07-18T12:28:14.509897Z",
     "iopub.status.idle": "2021-07-18T12:28:14.513095Z",
     "shell.execute_reply": "2021-07-18T12:28:14.513589Z",
     "shell.execute_reply.started": "2021-07-18T12:25:05.769644Z"
    },
    "papermill": {
     "duration": 0.058212,
     "end_time": "2021-07-18T12:28:14.513777",
     "exception": false,
     "start_time": "2021-07-18T12:28:14.455565",
     "status": "completed"
    },
    "tags": []
   },
   "outputs": [
    {
     "data": {
      "text/plain": [
       "numpy.lib.npyio.NpzFile"
      ]
     },
     "execution_count": 4,
     "metadata": {},
     "output_type": "execute_result"
    }
   ],
   "source": [
    "#check the type of the data\n",
    "type(data)"
   ]
  },
  {
   "cell_type": "code",
   "execution_count": 5,
   "id": "7bc1996e",
   "metadata": {
    "execution": {
     "iopub.execute_input": "2021-07-18T12:28:14.610848Z",
     "iopub.status.busy": "2021-07-18T12:28:14.610225Z",
     "iopub.status.idle": "2021-07-18T12:28:14.616020Z",
     "shell.execute_reply": "2021-07-18T12:28:14.616548Z",
     "shell.execute_reply.started": "2021-07-18T12:25:05.782219Z"
    },
    "papermill": {
     "duration": 0.055507,
     "end_time": "2021-07-18T12:28:14.616711",
     "exception": false,
     "start_time": "2021-07-18T12:28:14.561204",
     "status": "completed"
    },
    "tags": []
   },
   "outputs": [
    {
     "data": {
      "text/plain": [
       "['testX', 'testY', 'trainX', 'trainY']"
      ]
     },
     "execution_count": 5,
     "metadata": {},
     "output_type": "execute_result"
    }
   ],
   "source": [
    "#check the content of the files in a sorted fashion.. \n",
    "sorted(data.files)"
   ]
  },
  {
   "cell_type": "markdown",
   "id": "3e5c6855",
   "metadata": {
    "papermill": {
     "duration": 0.045867,
     "end_time": "2021-07-18T12:28:14.708617",
     "exception": false,
     "start_time": "2021-07-18T12:28:14.662750",
     "status": "completed"
    },
    "tags": []
   },
   "source": [
    "_The data is already split into the train and test set. For model building, we would split the train set into traina and dev set. Based on the best converged model, the predictions would be carried out on the test set_"
   ]
  },
  {
   "cell_type": "markdown",
   "id": "aaef9fa1",
   "metadata": {
    "papermill": {
     "duration": 0.04573,
     "end_time": "2021-07-18T12:28:14.800489",
     "exception": false,
     "start_time": "2021-07-18T12:28:14.754759",
     "status": "completed"
    },
    "tags": []
   },
   "source": [
    "<a name='3-1'></a>\n",
    "### _3.1 - Basic exploration of the npz file content_"
   ]
  },
  {
   "cell_type": "code",
   "execution_count": 6,
   "id": "6baa3ec1",
   "metadata": {
    "execution": {
     "iopub.execute_input": "2021-07-18T12:28:14.896394Z",
     "iopub.status.busy": "2021-07-18T12:28:14.895757Z",
     "iopub.status.idle": "2021-07-18T12:28:15.244210Z",
     "shell.execute_reply": "2021-07-18T12:28:15.243380Z",
     "shell.execute_reply.started": "2021-07-18T12:25:05.796375Z"
    },
    "papermill": {
     "duration": 0.397567,
     "end_time": "2021-07-18T12:28:15.244358",
     "exception": false,
     "start_time": "2021-07-18T12:28:14.846791",
     "status": "completed"
    },
    "tags": []
   },
   "outputs": [
    {
     "data": {
      "text/plain": [
       "array([[ 48.,  49.,  45., ...,  47.,  46.,  46.],\n",
       "       [ 60.,  60.,  62., ...,  32.,  34.,  34.],\n",
       "       [ 39.,  44.,  53., ...,  29.,  26.,  29.],\n",
       "       ...,\n",
       "       [114., 117., 114., ...,  98.,  96.,  98.],\n",
       "       [105., 105., 107., ...,  54.,  47.,  41.],\n",
       "       [116., 114., 117., ...,  95., 100., 101.]])"
      ]
     },
     "execution_count": 6,
     "metadata": {},
     "output_type": "execute_result"
    }
   ],
   "source": [
    "#view the content of the npzfiles\n",
    "data['trainX']"
   ]
  },
  {
   "cell_type": "code",
   "execution_count": 7,
   "id": "77031608",
   "metadata": {
    "execution": {
     "iopub.execute_input": "2021-07-18T12:28:15.347802Z",
     "iopub.status.busy": "2021-07-18T12:28:15.347125Z",
     "iopub.status.idle": "2021-07-18T12:28:15.352235Z",
     "shell.execute_reply": "2021-07-18T12:28:15.352831Z",
     "shell.execute_reply.started": "2021-07-18T12:25:05.843310Z"
    },
    "papermill": {
     "duration": 0.061389,
     "end_time": "2021-07-18T12:28:15.353057",
     "exception": false,
     "start_time": "2021-07-18T12:28:15.291668",
     "status": "completed"
    },
    "tags": []
   },
   "outputs": [
    {
     "data": {
      "text/plain": [
       "array([ 0,  0,  0,  0,  0,  0,  0,  0,  0,  0,  0,  0,  1,  1,  1,  1,  1,\n",
       "        1,  1,  1,  1,  1,  1,  1,  2,  2,  2,  2,  2,  2,  2,  2,  2,  2,\n",
       "        2,  2,  3,  3,  3,  3,  3,  3,  3,  3,  3,  3,  3,  3,  4,  4,  4,\n",
       "        4,  4,  4,  4,  4,  4,  4,  4,  4,  5,  5,  5,  5,  5,  5,  5,  5,\n",
       "        5,  5,  5,  5,  6,  6,  6,  6,  6,  6,  6,  6,  6,  6,  6,  6,  7,\n",
       "        7,  7,  7,  7,  7,  7,  7,  7,  7,  7,  7,  8,  8,  8,  8,  8,  8,\n",
       "        8,  8,  8,  8,  8,  8,  9,  9,  9,  9,  9,  9,  9,  9,  9,  9,  9,\n",
       "        9, 10, 10, 10, 10, 10, 10, 10, 10, 10, 10, 10, 10, 11, 11, 11, 11,\n",
       "       11, 11, 11, 11, 11, 11, 11, 11, 12, 12, 12, 12, 12, 12, 12, 12, 12,\n",
       "       12, 12, 12, 13, 13, 13, 13, 13, 13, 13, 13, 13, 13, 13, 13, 14, 14,\n",
       "       14, 14, 14, 14, 14, 14, 14, 14, 14, 14, 15, 15, 15, 15, 15, 15, 15,\n",
       "       15, 15, 15, 15, 15, 16, 16, 16, 16, 16, 16, 16, 16, 16, 16, 16, 16,\n",
       "       17, 17, 17, 17, 17, 17, 17, 17, 17, 17, 17, 17, 18, 18, 18, 18, 18,\n",
       "       18, 18, 18, 18, 18, 18, 18, 19, 19, 19, 19, 19, 19, 19, 19, 19, 19,\n",
       "       19, 19], dtype=uint8)"
      ]
     },
     "execution_count": 7,
     "metadata": {},
     "output_type": "execute_result"
    }
   ],
   "source": [
    "data['trainY']"
   ]
  },
  {
   "cell_type": "markdown",
   "id": "a6b7026d",
   "metadata": {
    "papermill": {
     "duration": 0.04648,
     "end_time": "2021-07-18T12:28:15.446715",
     "exception": false,
     "start_time": "2021-07-18T12:28:15.400235",
     "status": "completed"
    },
    "tags": []
   },
   "source": [
    "_Clearly the labels in the test folder indicates there are faces of 20 people. Secondly, the trainY content indicates that the data is not randomized. This can be done at the time of splitting the data into train and dev set so that the model can generalize well to the variation and does not learn the pattern from the way the data is structured and stored_"
   ]
  },
  {
   "cell_type": "code",
   "execution_count": 8,
   "id": "eef2c150",
   "metadata": {
    "execution": {
     "iopub.execute_input": "2021-07-18T12:28:15.543638Z",
     "iopub.status.busy": "2021-07-18T12:28:15.543018Z",
     "iopub.status.idle": "2021-07-18T12:28:15.595989Z",
     "shell.execute_reply": "2021-07-18T12:28:15.596496Z",
     "shell.execute_reply.started": "2021-07-18T12:25:05.851293Z"
    },
    "papermill": {
     "duration": 0.103124,
     "end_time": "2021-07-18T12:28:15.596673",
     "exception": false,
     "start_time": "2021-07-18T12:28:15.493549",
     "status": "completed"
    },
    "tags": []
   },
   "outputs": [
    {
     "data": {
      "text/plain": [
       "(numpy.ndarray, numpy.ndarray)"
      ]
     },
     "execution_count": 8,
     "metadata": {},
     "output_type": "execute_result"
    }
   ],
   "source": [
    "#check the type of the data -- > confirm it is numpy array\n",
    "type(data['trainX']), type(data['trainY'])"
   ]
  },
  {
   "cell_type": "code",
   "execution_count": 9,
   "id": "6709688b",
   "metadata": {
    "execution": {
     "iopub.execute_input": "2021-07-18T12:28:15.694369Z",
     "iopub.status.busy": "2021-07-18T12:28:15.693695Z",
     "iopub.status.idle": "2021-07-18T12:28:15.743899Z",
     "shell.execute_reply": "2021-07-18T12:28:15.743225Z",
     "shell.execute_reply.started": "2021-07-18T12:25:05.900035Z"
    },
    "papermill": {
     "duration": 0.100427,
     "end_time": "2021-07-18T12:28:15.744049",
     "exception": false,
     "start_time": "2021-07-18T12:28:15.643622",
     "status": "completed"
    },
    "tags": []
   },
   "outputs": [
    {
     "data": {
      "text/plain": [
       "((240, 10304), (240,))"
      ]
     },
     "execution_count": 9,
     "metadata": {},
     "output_type": "execute_result"
    }
   ],
   "source": [
    "#check the shape of the data\n",
    "data['trainX'].shape, data['trainY'].shape"
   ]
  },
  {
   "cell_type": "markdown",
   "id": "f9f0aaad",
   "metadata": {
    "papermill": {
     "duration": 0.04837,
     "end_time": "2021-07-18T12:28:15.840038",
     "exception": false,
     "start_time": "2021-07-18T12:28:15.791668",
     "status": "completed"
    },
    "tags": []
   },
   "source": [
    "_As per description, each image is of the size 112 x 92. Secondly, trainX contains 240 such images and remaining 160 images are part of the testX. The only way to visualize these images would be reshape the npzfiles arrays into the shape of 112x92. 112*92 = 10304 which is equal to the second value in the shape of data['trainX']. Hence the color channel is 1 which means all images are grayscale images._  "
   ]
  },
  {
   "cell_type": "markdown",
   "id": "3dcbaf8d",
   "metadata": {
    "execution": {
     "iopub.execute_input": "2021-07-13T08:46:37.427148Z",
     "iopub.status.busy": "2021-07-13T08:46:37.42646Z",
     "iopub.status.idle": "2021-07-13T08:46:37.432543Z",
     "shell.execute_reply": "2021-07-13T08:46:37.431095Z",
     "shell.execute_reply.started": "2021-07-13T08:46:37.427088Z"
    },
    "papermill": {
     "duration": 0.046923,
     "end_time": "2021-07-18T12:28:15.934151",
     "exception": false,
     "start_time": "2021-07-18T12:28:15.887228",
     "status": "completed"
    },
    "tags": []
   },
   "source": [
    "<a name='3-2'></a>\n",
    "### _3.2 - Reshape the data and plot random images_"
   ]
  },
  {
   "cell_type": "code",
   "execution_count": 10,
   "id": "91c9040e",
   "metadata": {
    "execution": {
     "iopub.execute_input": "2021-07-18T12:28:16.038781Z",
     "iopub.status.busy": "2021-07-18T12:28:16.038037Z",
     "iopub.status.idle": "2021-07-18T12:28:16.404688Z",
     "shell.execute_reply": "2021-07-18T12:28:16.405214Z",
     "shell.execute_reply.started": "2021-07-18T12:25:05.982226Z"
    },
    "papermill": {
     "duration": 0.423974,
     "end_time": "2021-07-18T12:28:16.405391",
     "exception": false,
     "start_time": "2021-07-18T12:28:15.981417",
     "status": "completed"
    },
    "tags": []
   },
   "outputs": [],
   "source": [
    "#reshape the content to the dimension as stated in the problem description\n",
    "n_rows = 112\n",
    "n_cols = 92\n",
    "n_channels = 1\n",
    "\n",
    "#trainX = data['trainX']\n",
    "#testX = data['testX']\n",
    "\n",
    "#trainX = np.array(list(map(lambda p: cv2.cvtColor(p, cv2.COLOR_GRAY2BGR), np.float32(data['trainX']))))/255.\n",
    "#testX = np.array(list(map(lambda p: cv2.cvtColor(p, cv2.COLOR_GRAY2BGR), np.float32(data['testX']))))/255.\n",
    "\n",
    "#trainX =  np.reshape(trainX,newshape=(trainX.shape[0],n_rows,n_cols,3))\n",
    "#testX =  np.reshape(testX,newshape=(testX.shape[0],n_rows,n_cols,3))\n",
    "\n",
    "trainX =  np.reshape(data['trainX'],newshape=(data['trainX'].shape[0],n_rows,n_cols))\n",
    "testX =  np.reshape(data['testX'],newshape=(data['testX'].shape[0],n_rows,n_cols))\n",
    "\n",
    "trainX = np.array(list(map(lambda p: cv2.cvtColor(p, cv2.COLOR_GRAY2BGR), np.float32(trainX))))/255.\n",
    "testX = np.array(list(map(lambda p: cv2.cvtColor(p, cv2.COLOR_GRAY2BGR), np.float32(testX))))/255.\n",
    "\n",
    "\n",
    "trainY = data['trainY']\n",
    "testY = data['testY']"
   ]
  },
  {
   "cell_type": "code",
   "execution_count": 11,
   "id": "891b9153",
   "metadata": {
    "execution": {
     "iopub.execute_input": "2021-07-18T12:28:16.511351Z",
     "iopub.status.busy": "2021-07-18T12:28:16.510630Z",
     "iopub.status.idle": "2021-07-18T12:28:16.515388Z",
     "shell.execute_reply": "2021-07-18T12:28:16.514661Z",
     "shell.execute_reply.started": "2021-07-18T12:25:06.135512Z"
    },
    "papermill": {
     "duration": 0.059021,
     "end_time": "2021-07-18T12:28:16.515551",
     "exception": false,
     "start_time": "2021-07-18T12:28:16.456530",
     "status": "completed"
    },
    "tags": []
   },
   "outputs": [
    {
     "data": {
      "text/plain": [
       "((240, 112, 92, 3), (160, 112, 92, 3))"
      ]
     },
     "execution_count": 11,
     "metadata": {},
     "output_type": "execute_result"
    }
   ],
   "source": [
    "#check the new shape\n",
    "trainX.shape, testX.shape"
   ]
  },
  {
   "cell_type": "markdown",
   "id": "9ac1ce7b",
   "metadata": {
    "papermill": {
     "duration": 0.048499,
     "end_time": "2021-07-18T12:28:16.613108",
     "exception": false,
     "start_time": "2021-07-18T12:28:16.564609",
     "status": "completed"
    },
    "tags": []
   },
   "source": [
    "<a name='3-3'></a>\n",
    "### _3.3 - Visualize the faces_"
   ]
  },
  {
   "cell_type": "code",
   "execution_count": 12,
   "id": "e8b80a7c",
   "metadata": {
    "execution": {
     "iopub.execute_input": "2021-07-18T12:28:16.734898Z",
     "iopub.status.busy": "2021-07-18T12:28:16.734156Z",
     "iopub.status.idle": "2021-07-18T12:28:17.158754Z",
     "shell.execute_reply": "2021-07-18T12:28:17.158160Z",
     "shell.execute_reply.started": "2021-07-18T12:25:06.143979Z"
    },
    "papermill": {
     "duration": 0.497181,
     "end_time": "2021-07-18T12:28:17.158944",
     "exception": false,
     "start_time": "2021-07-18T12:28:16.661763",
     "status": "completed"
    },
    "tags": []
   },
   "outputs": [
    {
     "data": {
      "image/png": "[encoded data removed]",
      "text/plain": [
       "<Figure size 864x360 with 4 Axes>"
      ]
     },
     "metadata": {
      "needs_background": "light"
     },
     "output_type": "display_data"
    }
   ],
   "source": [
    "#lets visualize random images\n",
    "delta = 5\n",
    "n = np.random.randint(low=0,high=trainX.shape[0]- 2*delta,dtype=int)\n",
    "\n",
    "#plot the faces \n",
    "plt.subplot(2,2,1)\n",
    "plt.imshow(trainX[n])\n",
    "plt.subplot(2,2,2)\n",
    "plt.imshow(trainX[n+delta])\n",
    "plt.subplot(2,2,3)\n",
    "plt.imshow(trainX[n-delta])\n",
    "plt.subplot(2,2,4)\n",
    "plt.imshow(trainX[n+delta*2])\n",
    "plt.show()"
   ]
  },
  {
   "cell_type": "markdown",
   "id": "96e01e24",
   "metadata": {
    "papermill": {
     "duration": 0.051062,
     "end_time": "2021-07-18T12:28:17.262105",
     "exception": false,
     "start_time": "2021-07-18T12:28:17.211043",
     "status": "completed"
    },
    "tags": []
   },
   "source": [
    "### _Split the data into train and validation dataset_"
   ]
  },
  {
   "cell_type": "code",
   "execution_count": 13,
   "id": "2ee190ec",
   "metadata": {
    "execution": {
     "iopub.execute_input": "2021-07-18T12:28:17.370987Z",
     "iopub.status.busy": "2021-07-18T12:28:17.370140Z",
     "iopub.status.idle": "2021-07-18T12:28:18.443093Z",
     "shell.execute_reply": "2021-07-18T12:28:18.442379Z",
     "shell.execute_reply.started": "2021-07-18T12:25:06.509739Z"
    },
    "papermill": {
     "duration": 1.129929,
     "end_time": "2021-07-18T12:28:18.443254",
     "exception": false,
     "start_time": "2021-07-18T12:28:17.313325",
     "status": "completed"
    },
    "tags": []
   },
   "outputs": [],
   "source": [
    "from sklearn.model_selection import train_test_split\n",
    "seed = 51\n",
    "test_size = 0.1\n",
    "X_train, X_valid, y_train, y_valid = train_test_split(trainX,trainY,random_state=seed,test_size=test_size)"
   ]
  },
  {
   "cell_type": "code",
   "execution_count": 14,
   "id": "597a6f33",
   "metadata": {
    "execution": {
     "iopub.execute_input": "2021-07-18T12:28:18.553896Z",
     "iopub.status.busy": "2021-07-18T12:28:18.552826Z",
     "iopub.status.idle": "2021-07-18T12:28:18.558111Z",
     "shell.execute_reply": "2021-07-18T12:28:18.557594Z",
     "shell.execute_reply.started": "2021-07-18T12:25:06.527439Z"
    },
    "papermill": {
     "duration": 0.062763,
     "end_time": "2021-07-18T12:28:18.558254",
     "exception": false,
     "start_time": "2021-07-18T12:28:18.495491",
     "status": "completed"
    },
    "tags": []
   },
   "outputs": [
    {
     "data": {
      "text/plain": [
       "((216, 112, 92, 3), (24, 112, 92, 3))"
      ]
     },
     "execution_count": 14,
     "metadata": {},
     "output_type": "execute_result"
    }
   ],
   "source": [
    "#shape post split of data\n",
    "X_train.shape, X_valid.shape"
   ]
  },
  {
   "cell_type": "code",
   "execution_count": 15,
   "id": "3282f451",
   "metadata": {
    "execution": {
     "iopub.execute_input": "2021-07-18T12:28:18.666985Z",
     "iopub.status.busy": "2021-07-18T12:28:18.666301Z",
     "iopub.status.idle": "2021-07-18T12:28:18.669290Z",
     "shell.execute_reply": "2021-07-18T12:28:18.669730Z",
     "shell.execute_reply.started": "2021-07-18T12:25:06.534626Z"
    },
    "papermill": {
     "duration": 0.059367,
     "end_time": "2021-07-18T12:28:18.669936",
     "exception": false,
     "start_time": "2021-07-18T12:28:18.610569",
     "status": "completed"
    },
    "tags": []
   },
   "outputs": [],
   "source": [
    "#for consitency in the variable names\n",
    "X_test = testX"
   ]
  },
  {
   "cell_type": "code",
   "execution_count": 16,
   "id": "1ff14fbd",
   "metadata": {
    "execution": {
     "iopub.execute_input": "2021-07-18T12:28:18.776959Z",
     "iopub.status.busy": "2021-07-18T12:28:18.776303Z",
     "iopub.status.idle": "2021-07-18T12:28:18.779399Z",
     "shell.execute_reply": "2021-07-18T12:28:18.779930Z",
     "shell.execute_reply.started": "2021-07-18T12:25:06.548914Z"
    },
    "papermill": {
     "duration": 0.059364,
     "end_time": "2021-07-18T12:28:18.780106",
     "exception": false,
     "start_time": "2021-07-18T12:28:18.720742",
     "status": "completed"
    },
    "tags": []
   },
   "outputs": [],
   "source": [
    "y_test = testY"
   ]
  },
  {
   "cell_type": "code",
   "execution_count": 17,
   "id": "c2ed4484",
   "metadata": {
    "execution": {
     "iopub.execute_input": "2021-07-18T12:28:18.885118Z",
     "iopub.status.busy": "2021-07-18T12:28:18.884161Z",
     "iopub.status.idle": "2021-07-18T12:28:18.889816Z",
     "shell.execute_reply": "2021-07-18T12:28:18.890295Z",
     "shell.execute_reply.started": "2021-07-18T12:25:06.563431Z"
    },
    "papermill": {
     "duration": 0.059783,
     "end_time": "2021-07-18T12:28:18.890464",
     "exception": false,
     "start_time": "2021-07-18T12:28:18.830681",
     "status": "completed"
    },
    "tags": []
   },
   "outputs": [
    {
     "data": {
      "text/plain": [
       "4"
      ]
     },
     "execution_count": 17,
     "metadata": {},
     "output_type": "execute_result"
    }
   ],
   "source": [
    "y_train[0]"
   ]
  },
  {
   "cell_type": "markdown",
   "id": "510220ca",
   "metadata": {
    "execution": {
     "iopub.execute_input": "2021-07-14T05:07:31.553125Z",
     "iopub.status.busy": "2021-07-14T05:07:31.552745Z",
     "iopub.status.idle": "2021-07-14T05:07:31.841512Z",
     "shell.execute_reply": "2021-07-14T05:07:31.840314Z",
     "shell.execute_reply.started": "2021-07-14T05:07:31.553093Z"
    },
    "papermill": {
     "duration": 0.050727,
     "end_time": "2021-07-18T12:28:18.992175",
     "exception": false,
     "start_time": "2021-07-18T12:28:18.941448",
     "status": "completed"
    },
    "tags": []
   },
   "source": [
    "<a name='4'></a>\n",
    "## _4 - Approach 1: Generate Embeddings using the FaceNet_\n",
    "- The FaceNet model would generate embeddings per face image \n",
    "- Two images would be the same if the distance between them is less than a particular threshold or a specified value \n",
    "- The embeddings is a vector of 128 points \n",
    "- These embeddings can then be fed into a classifier model to predict the label. Support Vector Classifier is a usual choice. \n",
    "- The only challenge is to make the input compatible to the input shape required by the FaceNet model\n",
    "- <b> The advantage of generating embeddings is the faster computation and when a new person's face is added to the dataset, then the entire embedding need not be generated again for the existing face. This is not directly the case when only image classification approach is exercised. In that case, the entire model would need to be retrained which does not sound like a good solution </b>\n"
   ]
  },
  {
   "cell_type": "code",
   "execution_count": 18,
   "id": "722f6257",
   "metadata": {
    "execution": {
     "iopub.execute_input": "2021-07-18T12:28:19.100314Z",
     "iopub.status.busy": "2021-07-18T12:28:19.099419Z",
     "iopub.status.idle": "2021-07-18T12:28:31.373174Z",
     "shell.execute_reply": "2021-07-18T12:28:31.372549Z",
     "shell.execute_reply.started": "2021-07-18T12:25:06.578808Z"
    },
    "papermill": {
     "duration": 12.330193,
     "end_time": "2021-07-18T12:28:31.373349",
     "exception": false,
     "start_time": "2021-07-18T12:28:19.043156",
     "status": "completed"
    },
    "tags": []
   },
   "outputs": [
    {
     "name": "stdout",
     "output_type": "stream",
     "text": [
      "[<KerasTensor: shape=(None, 160, 160, 3) dtype=float32 (created by layer 'input_1')>]\n",
      "[<KerasTensor: shape=(None, 128) dtype=float32 (created by layer 'Bottleneck_BatchNorm')>]\n"
     ]
    }
   ],
   "source": [
    "#load the pretrained facenet model\n",
    "from keras.models import load_model\n",
    "model = load_model('/kaggle/input/facenet-keras/facenet_keras.h5')\n",
    "print(model.inputs)\n",
    "print(model.outputs)"
   ]
  },
  {
   "cell_type": "markdown",
   "id": "3ae3b759",
   "metadata": {
    "papermill": {
     "duration": 0.051789,
     "end_time": "2021-07-18T12:28:31.479734",
     "exception": false,
     "start_time": "2021-07-18T12:28:31.427945",
     "status": "completed"
    },
    "tags": []
   },
   "source": [
    "_In order to make use of the pre-trained facenet model, the input array needs to be resized to be compatible to the required shape of facenet as indicated by the model.inputs._ "
   ]
  },
  {
   "cell_type": "code",
   "execution_count": 19,
   "id": "c15bbe3d",
   "metadata": {
    "execution": {
     "iopub.execute_input": "2021-07-18T12:28:31.589826Z",
     "iopub.status.busy": "2021-07-18T12:28:31.588819Z",
     "iopub.status.idle": "2021-07-18T12:28:31.593176Z",
     "shell.execute_reply": "2021-07-18T12:28:31.592579Z",
     "shell.execute_reply.started": "2021-07-18T12:25:12.261435Z"
    },
    "papermill": {
     "duration": 0.061526,
     "end_time": "2021-07-18T12:28:31.593330",
     "exception": false,
     "start_time": "2021-07-18T12:28:31.531804",
     "status": "completed"
    },
    "tags": []
   },
   "outputs": [],
   "source": [
    "#repeat the same color channels 3 times to make the shape compatible with the facenet model\n",
    "#X_train = np.repeat(X_train[..., np.newaxis], 3, -1)\n",
    "#X_valid = np.repeat(X_valid[..., np.newaxis], 3, -1)\n",
    "#X_test = np.repeat(X_test[..., np.newaxis], 3, -1)"
   ]
  },
  {
   "cell_type": "code",
   "execution_count": 20,
   "id": "e79cc667",
   "metadata": {
    "execution": {
     "iopub.execute_input": "2021-07-18T12:28:31.704856Z",
     "iopub.status.busy": "2021-07-18T12:28:31.703999Z",
     "iopub.status.idle": "2021-07-18T12:28:31.708408Z",
     "shell.execute_reply": "2021-07-18T12:28:31.707747Z",
     "shell.execute_reply.started": "2021-07-18T12:25:12.266766Z"
    },
    "papermill": {
     "duration": 0.063411,
     "end_time": "2021-07-18T12:28:31.708559",
     "exception": false,
     "start_time": "2021-07-18T12:28:31.645148",
     "status": "completed"
    },
    "tags": []
   },
   "outputs": [
    {
     "data": {
      "text/plain": [
       "(216, 112, 92, 3)"
      ]
     },
     "execution_count": 20,
     "metadata": {},
     "output_type": "execute_result"
    }
   ],
   "source": [
    "X_train.shape"
   ]
  },
  {
   "cell_type": "code",
   "execution_count": 21,
   "id": "e3fa83e5",
   "metadata": {
    "execution": {
     "iopub.execute_input": "2021-07-18T12:28:31.839013Z",
     "iopub.status.busy": "2021-07-18T12:28:31.837568Z",
     "iopub.status.idle": "2021-07-18T12:28:31.963387Z",
     "shell.execute_reply": "2021-07-18T12:28:31.964164Z",
     "shell.execute_reply.started": "2021-07-18T12:25:12.289444Z"
    },
    "papermill": {
     "duration": 0.203209,
     "end_time": "2021-07-18T12:28:31.964469",
     "exception": false,
     "start_time": "2021-07-18T12:28:31.761260",
     "status": "completed"
    },
    "tags": []
   },
   "outputs": [],
   "source": [
    "#resize the array to make it compatible with facenet. \n",
    "X_train = np.resize(X_train,(X_train.shape[0],160,160,3))\n",
    "X_valid = np.resize(X_train,(X_valid.shape[0],160,160,3))\n",
    "X_test = np.resize(X_train,(X_test.shape[0],160,160,3))"
   ]
  },
  {
   "cell_type": "code",
   "execution_count": 22,
   "id": "cb417eb3",
   "metadata": {
    "execution": {
     "iopub.execute_input": "2021-07-18T12:28:32.088516Z",
     "iopub.status.busy": "2021-07-18T12:28:32.087751Z",
     "iopub.status.idle": "2021-07-18T12:28:32.093130Z",
     "shell.execute_reply": "2021-07-18T12:28:32.092156Z",
     "shell.execute_reply.started": "2021-07-18T12:25:12.378213Z"
    },
    "papermill": {
     "duration": 0.068019,
     "end_time": "2021-07-18T12:28:32.093339",
     "exception": false,
     "start_time": "2021-07-18T12:28:32.025320",
     "status": "completed"
    },
    "tags": []
   },
   "outputs": [
    {
     "data": {
      "text/plain": [
       "((216, 160, 160, 3), (24, 160, 160, 3), (160, 160, 160, 3))"
      ]
     },
     "execution_count": 22,
     "metadata": {},
     "output_type": "execute_result"
    }
   ],
   "source": [
    "#check the new shapes after array resize\n",
    "X_train.shape, X_valid.shape, X_test.shape"
   ]
  },
  {
   "cell_type": "code",
   "execution_count": 23,
   "id": "837772d2",
   "metadata": {
    "execution": {
     "iopub.execute_input": "2021-07-18T12:28:32.220844Z",
     "iopub.status.busy": "2021-07-18T12:28:32.219815Z",
     "iopub.status.idle": "2021-07-18T12:28:32.224437Z",
     "shell.execute_reply": "2021-07-18T12:28:32.223477Z",
     "shell.execute_reply.started": "2021-07-18T12:25:12.385891Z"
    },
    "papermill": {
     "duration": 0.062487,
     "end_time": "2021-07-18T12:28:32.224662",
     "exception": false,
     "start_time": "2021-07-18T12:28:32.162175",
     "status": "completed"
    },
    "tags": []
   },
   "outputs": [],
   "source": [
    "#scale the inputs\n",
    "#X_train = X_train / 255.\n",
    "#X_valid = X_valid / 255.\n",
    "#X_test = X_test / 255."
   ]
  },
  {
   "cell_type": "code",
   "execution_count": 24,
   "id": "bae1f124",
   "metadata": {
    "execution": {
     "iopub.execute_input": "2021-07-18T12:28:32.406807Z",
     "iopub.status.busy": "2021-07-18T12:28:32.406166Z",
     "iopub.status.idle": "2021-07-18T12:28:48.117482Z",
     "shell.execute_reply": "2021-07-18T12:28:48.116853Z",
     "shell.execute_reply.started": "2021-07-18T12:25:12.397731Z"
    },
    "papermill": {
     "duration": 15.833996,
     "end_time": "2021-07-18T12:28:48.117643",
     "exception": false,
     "start_time": "2021-07-18T12:28:32.283647",
     "status": "completed"
    },
    "tags": []
   },
   "outputs": [],
   "source": [
    "#use the pretrained model to generate the embeddings \n",
    "y_train_embeddings = model.predict(X_train)\n",
    "y_valid_embeddings = model.predict(X_valid)\n",
    "y_test_embeddings = model.predict(X_test)"
   ]
  },
  {
   "cell_type": "code",
   "execution_count": 25,
   "id": "dc60421f",
   "metadata": {
    "execution": {
     "iopub.execute_input": "2021-07-18T12:28:48.232038Z",
     "iopub.status.busy": "2021-07-18T12:28:48.230992Z",
     "iopub.status.idle": "2021-07-18T12:28:48.236178Z",
     "shell.execute_reply": "2021-07-18T12:28:48.235538Z",
     "shell.execute_reply.started": "2021-07-18T12:25:22.806779Z"
    },
    "papermill": {
     "duration": 0.065574,
     "end_time": "2021-07-18T12:28:48.236319",
     "exception": false,
     "start_time": "2021-07-18T12:28:48.170745",
     "status": "completed"
    },
    "tags": []
   },
   "outputs": [
    {
     "data": {
      "text/plain": [
       "(216, 128)"
      ]
     },
     "execution_count": 25,
     "metadata": {},
     "output_type": "execute_result"
    }
   ],
   "source": [
    "#check the shape of the embeddings of the images in the training set \n",
    "y_train_embeddings.shape"
   ]
  },
  {
   "cell_type": "markdown",
   "id": "e0b7338f",
   "metadata": {
    "papermill": {
     "duration": 0.054973,
     "end_time": "2021-07-18T12:28:48.344623",
     "exception": false,
     "start_time": "2021-07-18T12:28:48.289650",
     "status": "completed"
    },
    "tags": []
   },
   "source": [
    "_It is a general practice to normalize the embeddings generated by FaceNet_"
   ]
  },
  {
   "cell_type": "code",
   "execution_count": 26,
   "id": "5c2569e8",
   "metadata": {
    "execution": {
     "iopub.execute_input": "2021-07-18T12:28:48.459305Z",
     "iopub.status.busy": "2021-07-18T12:28:48.458546Z",
     "iopub.status.idle": "2021-07-18T12:28:48.464191Z",
     "shell.execute_reply": "2021-07-18T12:28:48.463664Z",
     "shell.execute_reply.started": "2021-07-18T12:25:22.815463Z"
    },
    "papermill": {
     "duration": 0.066536,
     "end_time": "2021-07-18T12:28:48.464496",
     "exception": false,
     "start_time": "2021-07-18T12:28:48.397960",
     "status": "completed"
    },
    "tags": []
   },
   "outputs": [],
   "source": [
    "#apply the L2 norm on the generated embeddings using facenet model\n",
    "from sklearn.preprocessing import Normalizer\n",
    "input_encoder = Normalizer(norm='l2')\n",
    "embed_train_norm = input_encoder.transform(np.reshape(y_train_embeddings,(-1,128)))\n",
    "embed_valid_norm = input_encoder.transform(np.reshape(y_valid_embeddings,(-1,128)))\n",
    "embed_test_norm = input_encoder.transform(np.reshape(y_test_embeddings,(-1,128)))"
   ]
  },
  {
   "cell_type": "code",
   "execution_count": 27,
   "id": "27c48edd",
   "metadata": {
    "execution": {
     "iopub.execute_input": "2021-07-18T12:28:48.578068Z",
     "iopub.status.busy": "2021-07-18T12:28:48.577352Z",
     "iopub.status.idle": "2021-07-18T12:28:48.581846Z",
     "shell.execute_reply": "2021-07-18T12:28:48.581228Z",
     "shell.execute_reply.started": "2021-07-18T12:25:22.828722Z"
    },
    "papermill": {
     "duration": 0.063275,
     "end_time": "2021-07-18T12:28:48.582007",
     "exception": false,
     "start_time": "2021-07-18T12:28:48.518732",
     "status": "completed"
    },
    "tags": []
   },
   "outputs": [
    {
     "data": {
      "text/plain": [
       "(216, 128)"
      ]
     },
     "execution_count": 27,
     "metadata": {},
     "output_type": "execute_result"
    }
   ],
   "source": [
    "#check the shape post normalization \n",
    "embed_train_norm.shape"
   ]
  },
  {
   "cell_type": "markdown",
   "id": "0a7021b9",
   "metadata": {
    "papermill": {
     "duration": 0.053632,
     "end_time": "2021-07-18T12:28:48.690612",
     "exception": false,
     "start_time": "2021-07-18T12:28:48.636980",
     "status": "completed"
    },
    "tags": []
   },
   "source": [
    "<a name='4-1'></a>\n",
    "### _4.1 - Use Support Vector Machines to classify the face embeddings vectors_"
   ]
  },
  {
   "cell_type": "code",
   "execution_count": 28,
   "id": "cd888ed5",
   "metadata": {
    "execution": {
     "iopub.execute_input": "2021-07-18T12:28:48.803162Z",
     "iopub.status.busy": "2021-07-18T12:28:48.802443Z",
     "iopub.status.idle": "2021-07-18T12:28:49.225526Z",
     "shell.execute_reply": "2021-07-18T12:28:49.224980Z",
     "shell.execute_reply.started": "2021-07-18T12:25:22.842902Z"
    },
    "papermill": {
     "duration": 0.48161,
     "end_time": "2021-07-18T12:28:49.225676",
     "exception": false,
     "start_time": "2021-07-18T12:28:48.744066",
     "status": "completed"
    },
    "tags": []
   },
   "outputs": [],
   "source": [
    "#import the needed libraries and metrics\n",
    "from sklearn.svm import SVC\n",
    "from sklearn.metrics import accuracy_score\n",
    "from sklearn.metrics import confusion_matrix"
   ]
  },
  {
   "cell_type": "code",
   "execution_count": 29,
   "id": "f60ddcf6",
   "metadata": {
    "execution": {
     "iopub.execute_input": "2021-07-18T12:28:49.338780Z",
     "iopub.status.busy": "2021-07-18T12:28:49.338054Z",
     "iopub.status.idle": "2021-07-18T12:28:49.448259Z",
     "shell.execute_reply": "2021-07-18T12:28:49.447649Z",
     "shell.execute_reply.started": "2021-07-18T12:25:22.876297Z"
    },
    "papermill": {
     "duration": 0.16933,
     "end_time": "2021-07-18T12:28:49.448420",
     "exception": false,
     "start_time": "2021-07-18T12:28:49.279090",
     "status": "completed"
    },
    "tags": []
   },
   "outputs": [
    {
     "data": {
      "text/plain": [
       "SVC(C=10.0, kernel='linear', probability=True)"
      ]
     },
     "execution_count": 29,
     "metadata": {},
     "output_type": "execute_result"
    }
   ],
   "source": [
    "#instantiate the model \n",
    "svc_clf = SVC(kernel ='linear',C=10.0,probability=True)\n",
    "#fit the model\n",
    "svc_clf.fit(embed_train_norm,y_train)"
   ]
  },
  {
   "cell_type": "code",
   "execution_count": 30,
   "id": "7d5f2479",
   "metadata": {
    "execution": {
     "iopub.execute_input": "2021-07-18T12:28:49.563774Z",
     "iopub.status.busy": "2021-07-18T12:28:49.562887Z",
     "iopub.status.idle": "2021-07-18T12:28:49.585181Z",
     "shell.execute_reply": "2021-07-18T12:28:49.584583Z",
     "shell.execute_reply.started": "2021-07-18T12:25:22.990202Z"
    },
    "papermill": {
     "duration": 0.082698,
     "end_time": "2021-07-18T12:28:49.585347",
     "exception": false,
     "start_time": "2021-07-18T12:28:49.502649",
     "status": "completed"
    },
    "tags": []
   },
   "outputs": [],
   "source": [
    "#predict the classes (faces)\n",
    "y_pred_train = svc_clf.predict(embed_train_norm)\n",
    "y_pred_valid = svc_clf.predict(embed_valid_norm)\n",
    "y_pred_test = svc_clf.predict(embed_test_norm)"
   ]
  },
  {
   "cell_type": "code",
   "execution_count": 31,
   "id": "ade8060b",
   "metadata": {
    "execution": {
     "iopub.execute_input": "2021-07-18T12:28:49.700979Z",
     "iopub.status.busy": "2021-07-18T12:28:49.699355Z",
     "iopub.status.idle": "2021-07-18T12:28:49.706834Z",
     "shell.execute_reply": "2021-07-18T12:28:49.706094Z",
     "shell.execute_reply.started": "2021-07-18T12:25:23.017291Z"
    },
    "papermill": {
     "duration": 0.067221,
     "end_time": "2021-07-18T12:28:49.707053",
     "exception": false,
     "start_time": "2021-07-18T12:28:49.639832",
     "status": "completed"
    },
    "tags": []
   },
   "outputs": [
    {
     "name": "stdout",
     "output_type": "stream",
     "text": [
      "Accuracy on train set 0.162\n",
      "Accuracy on the validation set 0.042\n",
      "Accuracy on the test set 0.069\n"
     ]
    }
   ],
   "source": [
    "#check the accuracy score on the various dataset \n",
    "print('Accuracy on train set %.3f' %accuracy_score(y_train,y_pred_train))\n",
    "print('Accuracy on the validation set %.3f' %accuracy_score(y_valid,y_pred_valid))\n",
    "print('Accuracy on the test set %.3f' %accuracy_score(testY,y_pred_test))"
   ]
  },
  {
   "cell_type": "markdown",
   "id": "d8b6ec89",
   "metadata": {
    "papermill": {
     "duration": 0.055637,
     "end_time": "2021-07-18T12:28:49.819060",
     "exception": false,
     "start_time": "2021-07-18T12:28:49.763423",
     "status": "completed"
    },
    "tags": []
   },
   "source": [
    "<font color ='red'> <b> _The accuracy score on all the datasets is terrible. With the hyperparameter value of C, the model overfits to the training data and performs poorly to the valid and test data set. Adding more regularization by reducing the value of C, the model also underfits substantially to the training data.The reasons could be the distortion in the input images due to resizing and repeating the arrays to make the 4th dimension to be 3. The original dataset indicated only 1 channel._ </font> </b>\n",
    "\n"
   ]
  },
  {
   "cell_type": "markdown",
   "id": "0dd3accf",
   "metadata": {
    "papermill": {
     "duration": 0.056314,
     "end_time": "2021-07-18T12:28:49.930113",
     "exception": false,
     "start_time": "2021-07-18T12:28:49.873799",
     "status": "completed"
    },
    "tags": []
   },
   "source": [
    "<a name='5'></a>\n",
    "## _5 - Approach 2: Face Classification using the normal image classification way_\n",
    "_The biggest disadvantage with this approach is that the model would need to be retrained every time the same person shows up the face to verify the person. Secondly, if a new face is added to the data set, model retraining is unavoidable. That is the biggest advantage we get using the FaceRecognition model is the embeddings which is easier to store and need not be computed for the same face again and again. if a new person comes in then the new embedding of the person can be concatenated into the list of the existing embeddings_"
   ]
  },
  {
   "cell_type": "code",
   "execution_count": 32,
   "id": "ba52c2ca",
   "metadata": {
    "execution": {
     "iopub.execute_input": "2021-07-18T12:28:50.045569Z",
     "iopub.status.busy": "2021-07-18T12:28:50.044856Z",
     "iopub.status.idle": "2021-07-18T12:28:50.177062Z",
     "shell.execute_reply": "2021-07-18T12:28:50.176476Z",
     "shell.execute_reply.started": "2021-07-18T12:26:59.447571Z"
    },
    "papermill": {
     "duration": 0.193097,
     "end_time": "2021-07-18T12:28:50.177220",
     "exception": false,
     "start_time": "2021-07-18T12:28:49.984123",
     "status": "completed"
    },
    "tags": []
   },
   "outputs": [],
   "source": [
    "#reshape the content to the dimension as stated in the problem description\n",
    "n_rows = 112\n",
    "n_cols = 92\n",
    "n_channels = 1\n",
    "\n",
    "trainX =  np.reshape(data['trainX'],newshape=(data['trainX'].shape[0],n_rows,n_cols,n_channels))\n",
    "testX =  np.reshape(data['testX'],newshape=(data['testX'].shape[0],n_rows,n_cols,n_channels))\n",
    "trainY = data['trainY']\n",
    "testY = data['testY']"
   ]
  },
  {
   "cell_type": "code",
   "execution_count": 33,
   "id": "415dbe6f",
   "metadata": {
    "execution": {
     "iopub.execute_input": "2021-07-18T12:28:50.291260Z",
     "iopub.status.busy": "2021-07-18T12:28:50.290583Z",
     "iopub.status.idle": "2021-07-18T12:28:50.303424Z",
     "shell.execute_reply": "2021-07-18T12:28:50.302890Z",
     "shell.execute_reply.started": "2021-07-18T12:26:59.670614Z"
    },
    "papermill": {
     "duration": 0.072211,
     "end_time": "2021-07-18T12:28:50.303586",
     "exception": false,
     "start_time": "2021-07-18T12:28:50.231375",
     "status": "completed"
    },
    "tags": []
   },
   "outputs": [],
   "source": [
    "#train the model on the entire train data after shuffling the dataset \n",
    "shuffled_indices = np.random.permutation(len(trainX))\n",
    "X_train = trainX[shuffled_indices]\n",
    "y_train = trainY[shuffled_indices]"
   ]
  },
  {
   "cell_type": "code",
   "execution_count": 34,
   "id": "ca63e51e",
   "metadata": {
    "execution": {
     "iopub.execute_input": "2021-07-18T12:28:50.417308Z",
     "iopub.status.busy": "2021-07-18T12:28:50.416620Z",
     "iopub.status.idle": "2021-07-18T12:28:50.418784Z",
     "shell.execute_reply": "2021-07-18T12:28:50.419399Z",
     "shell.execute_reply.started": "2021-07-18T12:26:59.909278Z"
    },
    "papermill": {
     "duration": 0.061958,
     "end_time": "2021-07-18T12:28:50.419568",
     "exception": false,
     "start_time": "2021-07-18T12:28:50.357610",
     "status": "completed"
    },
    "tags": []
   },
   "outputs": [],
   "source": [
    "#optional familiar variable naming \n",
    "X_test = testX\n",
    "y_test = testY"
   ]
  },
  {
   "cell_type": "code",
   "execution_count": 35,
   "id": "dc8d547c",
   "metadata": {
    "execution": {
     "iopub.execute_input": "2021-07-18T12:28:50.532940Z",
     "iopub.status.busy": "2021-07-18T12:28:50.532189Z",
     "iopub.status.idle": "2021-07-18T12:28:50.535502Z",
     "shell.execute_reply": "2021-07-18T12:28:50.534971Z",
     "shell.execute_reply.started": "2021-07-18T12:27:00.164035Z"
    },
    "papermill": {
     "duration": 0.062202,
     "end_time": "2021-07-18T12:28:50.535650",
     "exception": false,
     "start_time": "2021-07-18T12:28:50.473448",
     "status": "completed"
    },
    "tags": []
   },
   "outputs": [],
   "source": [
    "#tensorflow\n",
    "import tensorflow as tf"
   ]
  },
  {
   "cell_type": "markdown",
   "id": "8bed2c41",
   "metadata": {
    "papermill": {
     "duration": 0.054527,
     "end_time": "2021-07-18T12:28:50.644218",
     "exception": false,
     "start_time": "2021-07-18T12:28:50.589691",
     "status": "completed"
    },
    "tags": []
   },
   "source": [
    "<a name='5-1'></a>\n",
    "### _5.1 - Define the Functional API based Model Architecture_"
   ]
  },
  {
   "cell_type": "code",
   "execution_count": 36,
   "id": "2205593e",
   "metadata": {
    "execution": {
     "iopub.execute_input": "2021-07-18T12:28:50.766971Z",
     "iopub.status.busy": "2021-07-18T12:28:50.760834Z",
     "iopub.status.idle": "2021-07-18T12:28:50.768920Z",
     "shell.execute_reply": "2021-07-18T12:28:50.769541Z",
     "shell.execute_reply.started": "2021-07-18T12:27:01.086093Z"
    },
    "papermill": {
     "duration": 0.071245,
     "end_time": "2021-07-18T12:28:50.769719",
     "exception": false,
     "start_time": "2021-07-18T12:28:50.698474",
     "status": "completed"
    },
    "tags": []
   },
   "outputs": [],
   "source": [
    "def convolutional_model(input_shape,n_filters=8,kernel_size=4,strides=1,padding='same',units=1024,activation='relu',\n",
    "                        kernel_regularizer=tf.keras.regularizers.L1L2(l1=0.01, l2=0.01)):\n",
    "    \n",
    "    '''CNN and Dense Model using Functional API'''\n",
    "    \n",
    "    input_img = tf.keras.Input(shape=input_shape[1:])\n",
    "    #Conv2D layer\n",
    "    Z1 = tf.keras.layers.Conv2D(filters=n_filters,kernel_size=(kernel_size,kernel_size),strides=strides,padding=padding)(input_img)\n",
    "    ##ReLU activation layer\n",
    "    A1 = tf.keras.layers.Activation(activation)(Z1)\n",
    "    ##MAXPOOL\n",
    "    P1 = tf.keras.layers.MaxPool2D(pool_size=(n_filters,n_filters),strides=strides*8,padding=padding)(A1)\n",
    "    ##Conv2D\n",
    "    Z2 = tf.keras.layers.Conv2D(filters=n_filters*2,kernel_size=(int(kernel_size/2),int(kernel_size/2)),strides=strides,padding=padding)(P1)\n",
    "    ##ReLU\n",
    "    A2 = tf.keras.layers.Activation(activation)(Z2)\n",
    "    ##MAXPool\n",
    "    P2 = tf.keras.layers.MaxPool2D(pool_size=(int(n_filters/2)),strides=strides*4,padding=padding)(A2)\n",
    "    ##Flatten\n",
    "    F = tf.keras.layers.Flatten()(P2)\n",
    "    ##Dense layers\n",
    "    D1 = tf.keras.layers.Dense(units=units,activation=activation)(F)\n",
    "    D2 = tf.keras.layers.Dense(units=int(units/2),activation=activation,kernel_regularizer=kernel_regularizer)(D1)\n",
    "    D3 = tf.keras.layers.Dense(units=int(units/4),activation=activation,kernel_regularizer=kernel_regularizer)(D2)\n",
    "    ##output layer\n",
    "    outputs = tf.keras.layers.Dense(units=20,activation='softmax')(D3)\n",
    "    \n",
    "    #instantiate the model\n",
    "    model = tf.keras.Model(inputs=input_img,outputs=outputs)\n",
    "    return model    "
   ]
  },
  {
   "cell_type": "code",
   "execution_count": 37,
   "id": "ee6f3c51",
   "metadata": {
    "execution": {
     "iopub.execute_input": "2021-07-18T12:28:50.881204Z",
     "iopub.status.busy": "2021-07-18T12:28:50.880504Z",
     "iopub.status.idle": "2021-07-18T12:28:50.993006Z",
     "shell.execute_reply": "2021-07-18T12:28:50.993500Z",
     "shell.execute_reply.started": "2021-07-18T12:27:01.712459Z"
    },
    "papermill": {
     "duration": 0.170117,
     "end_time": "2021-07-18T12:28:50.993679",
     "exception": false,
     "start_time": "2021-07-18T12:28:50.823562",
     "status": "completed"
    },
    "tags": []
   },
   "outputs": [
    {
     "name": "stdout",
     "output_type": "stream",
     "text": [
      "Model: \"model\"\n",
      "_________________________________________________________________\n",
      "Layer (type)                 Output Shape              Param #   \n",
      "=================================================================\n",
      "input_1 (InputLayer)         [(None, 112, 92, 1)]      0         \n",
      "_________________________________________________________________\n",
      "conv2d (Conv2D)              (None, 112, 92, 8)        136       \n",
      "_________________________________________________________________\n",
      "activation (Activation)      (None, 112, 92, 8)        0         \n",
      "_________________________________________________________________\n",
      "max_pooling2d (MaxPooling2D) (None, 14, 12, 8)         0         \n",
      "_________________________________________________________________\n",
      "conv2d_1 (Conv2D)            (None, 14, 12, 16)        528       \n",
      "_________________________________________________________________\n",
      "activation_1 (Activation)    (None, 14, 12, 16)        0         \n",
      "_________________________________________________________________\n",
      "max_pooling2d_1 (MaxPooling2 (None, 4, 3, 16)          0         \n",
      "_________________________________________________________________\n",
      "flatten (Flatten)            (None, 192)               0         \n",
      "_________________________________________________________________\n",
      "dense (Dense)                (None, 1024)              197632    \n",
      "_________________________________________________________________\n",
      "dense_1 (Dense)              (None, 512)               524800    \n",
      "_________________________________________________________________\n",
      "dense_2 (Dense)              (None, 256)               131328    \n",
      "_________________________________________________________________\n",
      "dense_3 (Dense)              (None, 20)                5140      \n",
      "=================================================================\n",
      "Total params: 859,564\n",
      "Trainable params: 859,564\n",
      "Non-trainable params: 0\n",
      "_________________________________________________________________\n"
     ]
    }
   ],
   "source": [
    "#set the shape and the regularizer to be applied\n",
    "INPUT_SHAPE = (X_train.shape[0],112,92,1)\n",
    "kernel_regularizer = tf.keras.regularizers.L2(l2=0.05)\n",
    "\n",
    "#call the convolutional model \n",
    "conv_model = convolutional_model(input_shape=INPUT_SHAPE,n_filters=8,kernel_size=4,strides=1,padding='same',units=1024,activation='relu',\n",
    "                                kernel_regularizer=kernel_regularizer)\n",
    "#compile the model\n",
    "conv_model.compile(optimizer='adam',\n",
    "                  loss='sparse_categorical_crossentropy',\n",
    "                  metrics=['accuracy'])\n",
    "conv_model.summary()"
   ]
  },
  {
   "cell_type": "markdown",
   "id": "1e1342d2",
   "metadata": {
    "papermill": {
     "duration": 0.054972,
     "end_time": "2021-07-18T12:28:51.103457",
     "exception": false,
     "start_time": "2021-07-18T12:28:51.048485",
     "status": "completed"
    },
    "tags": []
   },
   "source": [
    "<a name='5-2'></a>\n",
    "### _5.2 - Define custom callback_"
   ]
  },
  {
   "cell_type": "code",
   "execution_count": 38,
   "id": "0329cc39",
   "metadata": {
    "execution": {
     "iopub.execute_input": "2021-07-18T12:28:51.221058Z",
     "iopub.status.busy": "2021-07-18T12:28:51.220317Z",
     "iopub.status.idle": "2021-07-18T12:28:51.222906Z",
     "shell.execute_reply": "2021-07-18T12:28:51.223495Z",
     "shell.execute_reply.started": "2021-07-18T12:27:04.440964Z"
    },
    "papermill": {
     "duration": 0.065493,
     "end_time": "2021-07-18T12:28:51.223687",
     "exception": false,
     "start_time": "2021-07-18T12:28:51.158194",
     "status": "completed"
    },
    "tags": []
   },
   "outputs": [],
   "source": [
    "class MyQualityThreshold(tf.keras.callbacks.Callback):\n",
    "    def __init__(self,cl):\n",
    "        super(MyQualityThreshold, self).__init__()\n",
    "        self.cl = cl\n",
    "  \n",
    "    def on_epoch_end(self,epoch,logs=None):\n",
    "        testScore = logs['val_accuracy']\n",
    "        trainScore = logs['accuracy']\n",
    "\n",
    "        if testScore > self.cl:\n",
    "              self.model.stop_training=True"
   ]
  },
  {
   "cell_type": "markdown",
   "id": "0f6e658f",
   "metadata": {
    "papermill": {
     "duration": 0.054775,
     "end_time": "2021-07-18T12:28:51.333374",
     "exception": false,
     "start_time": "2021-07-18T12:28:51.278599",
     "status": "completed"
    },
    "tags": []
   },
   "source": [
    "<a name='5-3'></a>\n",
    "### _5.3 - Train the model_"
   ]
  },
  {
   "cell_type": "code",
   "execution_count": 39,
   "id": "2e2989eb",
   "metadata": {
    "execution": {
     "iopub.execute_input": "2021-07-18T12:28:51.453223Z",
     "iopub.status.busy": "2021-07-18T12:28:51.452508Z",
     "iopub.status.idle": "2021-07-18T12:28:59.972722Z",
     "shell.execute_reply": "2021-07-18T12:28:59.972055Z",
     "shell.execute_reply.started": "2021-07-18T12:27:06.093101Z"
    },
    "papermill": {
     "duration": 8.584658,
     "end_time": "2021-07-18T12:28:59.972911",
     "exception": false,
     "start_time": "2021-07-18T12:28:51.388253",
     "status": "completed"
    },
    "tags": []
   },
   "outputs": [
    {
     "name": "stdout",
     "output_type": "stream",
     "text": [
      "Epoch 1/100\n",
      "8/8 - 2s - loss: 68.9109 - accuracy: 0.0292 - val_loss: 57.4217 - val_accuracy: 0.0688\n",
      "Epoch 2/100\n",
      "8/8 - 1s - loss: 48.4708 - accuracy: 0.1750 - val_loss: 38.7577 - val_accuracy: 0.2375\n",
      "Epoch 3/100\n",
      "8/8 - 1s - loss: 35.2053 - accuracy: 0.2708 - val_loss: 31.2739 - val_accuracy: 0.2688\n",
      "Epoch 4/100\n",
      "8/8 - 1s - loss: 29.2863 - accuracy: 0.4375 - val_loss: 26.8228 - val_accuracy: 0.4750\n",
      "Epoch 5/100\n",
      "8/8 - 1s - loss: 25.1867 - accuracy: 0.6750 - val_loss: 23.4986 - val_accuracy: 0.6750\n",
      "Epoch 6/100\n",
      "8/8 - 1s - loss: 22.2305 - accuracy: 0.8125 - val_loss: 21.1128 - val_accuracy: 0.7250\n",
      "Epoch 7/100\n",
      "8/8 - 1s - loss: 20.0103 - accuracy: 0.9083 - val_loss: 19.2366 - val_accuracy: 0.8687\n",
      "Epoch 8/100\n",
      "8/8 - 1s - loss: 18.3734 - accuracy: 0.9750 - val_loss: 17.8730 - val_accuracy: 0.8625\n",
      "Epoch 9/100\n",
      "8/8 - 1s - loss: 17.1719 - accuracy: 0.9833 - val_loss: 16.8293 - val_accuracy: 0.8625\n",
      "Epoch 10/100\n",
      "8/8 - 1s - loss: 16.1952 - accuracy: 0.9958 - val_loss: 15.9831 - val_accuracy: 0.8938\n",
      "Epoch 11/100\n",
      "8/8 - 1s - loss: 15.3984 - accuracy: 0.9958 - val_loss: 15.2353 - val_accuracy: 0.9312\n"
     ]
    }
   ],
   "source": [
    "#fit the model\n",
    "history = conv_model.fit(X_train,y_train,epochs=100,validation_data=(X_test,y_test),verbose=2,\n",
    "                        callbacks=[MyQualityThreshold(0.92)],batch_size=32)"
   ]
  },
  {
   "cell_type": "markdown",
   "id": "46a6e2e1",
   "metadata": {
    "papermill": {
     "duration": 0.062038,
     "end_time": "2021-07-18T12:29:00.098185",
     "exception": false,
     "start_time": "2021-07-18T12:29:00.036147",
     "status": "completed"
    },
    "tags": []
   },
   "source": [
    "<a name='5-4'></a>\n",
    "### _5.4 - Visualize Model Performance_"
   ]
  },
  {
   "cell_type": "code",
   "execution_count": 40,
   "id": "5220d1cf",
   "metadata": {
    "execution": {
     "iopub.execute_input": "2021-07-18T12:29:00.235832Z",
     "iopub.status.busy": "2021-07-18T12:29:00.235151Z",
     "iopub.status.idle": "2021-07-18T12:29:00.258802Z",
     "shell.execute_reply": "2021-07-18T12:29:00.258162Z",
     "shell.execute_reply.started": "2021-07-18T12:27:16.233461Z"
    },
    "papermill": {
     "duration": 0.09879,
     "end_time": "2021-07-18T12:29:00.258988",
     "exception": false,
     "start_time": "2021-07-18T12:29:00.160198",
     "status": "completed"
    },
    "tags": []
   },
   "outputs": [
    {
     "data": {
      "text/html": [
       "<div>\n",
       "<style scoped>\n",
       "    .dataframe tbody tr th:only-of-type {\n",
       "        vertical-align: middle;\n",
       "    }\n",
       "\n",
       "    .dataframe tbody tr th {\n",
       "        vertical-align: top;\n",
       "    }\n",
       "\n",
       "    .dataframe thead th {\n",
       "        text-align: right;\n",
       "    }\n",
       "</style>\n",
       "<table border=\"1\" class=\"dataframe\">\n",
       "  <thead>\n",
       "    <tr style=\"text-align: right;\">\n",
       "      <th></th>\n",
       "      <th>loss</th>\n",
       "      <th>accuracy</th>\n",
       "      <th>val_loss</th>\n",
       "      <th>val_accuracy</th>\n",
       "    </tr>\n",
       "  </thead>\n",
       "  <tbody>\n",
       "    <tr>\n",
       "      <th>0</th>\n",
       "      <td>68.910942</td>\n",
       "      <td>0.029167</td>\n",
       "      <td>57.421715</td>\n",
       "      <td>0.06875</td>\n",
       "    </tr>\n",
       "    <tr>\n",
       "      <th>1</th>\n",
       "      <td>48.470757</td>\n",
       "      <td>0.175000</td>\n",
       "      <td>38.757702</td>\n",
       "      <td>0.23750</td>\n",
       "    </tr>\n",
       "    <tr>\n",
       "      <th>2</th>\n",
       "      <td>35.205284</td>\n",
       "      <td>0.270833</td>\n",
       "      <td>31.273916</td>\n",
       "      <td>0.26875</td>\n",
       "    </tr>\n",
       "    <tr>\n",
       "      <th>3</th>\n",
       "      <td>29.286291</td>\n",
       "      <td>0.437500</td>\n",
       "      <td>26.822788</td>\n",
       "      <td>0.47500</td>\n",
       "    </tr>\n",
       "    <tr>\n",
       "      <th>4</th>\n",
       "      <td>25.186655</td>\n",
       "      <td>0.675000</td>\n",
       "      <td>23.498615</td>\n",
       "      <td>0.67500</td>\n",
       "    </tr>\n",
       "  </tbody>\n",
       "</table>\n",
       "</div>"
      ],
      "text/plain": [
       "        loss  accuracy   val_loss  val_accuracy\n",
       "0  68.910942  0.029167  57.421715       0.06875\n",
       "1  48.470757  0.175000  38.757702       0.23750\n",
       "2  35.205284  0.270833  31.273916       0.26875\n",
       "3  29.286291  0.437500  26.822788       0.47500\n",
       "4  25.186655  0.675000  23.498615       0.67500"
      ]
     },
     "execution_count": 40,
     "metadata": {},
     "output_type": "execute_result"
    }
   ],
   "source": [
    "#create a dataframe of the model training history\n",
    "results = pd.DataFrame(history.history)\n",
    "results.head()"
   ]
  },
  {
   "cell_type": "code",
   "execution_count": 41,
   "id": "04bf60ff",
   "metadata": {
    "execution": {
     "iopub.execute_input": "2021-07-18T12:29:00.387346Z",
     "iopub.status.busy": "2021-07-18T12:29:00.386631Z",
     "iopub.status.idle": "2021-07-18T12:29:00.617397Z",
     "shell.execute_reply": "2021-07-18T12:29:00.617891Z",
     "shell.execute_reply.started": "2021-07-18T12:27:16.250725Z"
    },
    "papermill": {
     "duration": 0.296866,
     "end_time": "2021-07-18T12:29:00.618099",
     "exception": false,
     "start_time": "2021-07-18T12:29:00.321233",
     "status": "completed"
    },
    "tags": []
   },
   "outputs": [
    {
     "data": {
      "image/png": "[encoded data removed]",
      "text/plain": [
       "<Figure size 864x360 with 1 Axes>"
      ]
     },
     "metadata": {
      "needs_background": "light"
     },
     "output_type": "display_data"
    }
   ],
   "source": [
    "#plot the accuracy over the training and test set\n",
    "results[['accuracy','val_accuracy']].plot()\n",
    "plt.title('Model Accuracy Plot')\n",
    "plt.xlabel('Epochs')\n",
    "plt.ylabel('Accuracy')\n",
    "plt.grid()\n",
    "plt.show()"
   ]
  },
  {
   "cell_type": "code",
   "execution_count": 42,
   "id": "30c8e099",
   "metadata": {
    "execution": {
     "iopub.execute_input": "2021-07-18T12:29:00.774827Z",
     "iopub.status.busy": "2021-07-18T12:29:00.752757Z",
     "iopub.status.idle": "2021-07-18T12:29:00.946729Z",
     "shell.execute_reply": "2021-07-18T12:29:00.946070Z",
     "shell.execute_reply.started": "2021-07-18T12:27:16.436961Z"
    },
    "papermill": {
     "duration": 0.26452,
     "end_time": "2021-07-18T12:29:00.946902",
     "exception": false,
     "start_time": "2021-07-18T12:29:00.682382",
     "status": "completed"
    },
    "tags": []
   },
   "outputs": [
    {
     "data": {
      "image/png": "[encoded data removed]",
      "text/plain": [
       "<Figure size 864x360 with 1 Axes>"
      ]
     },
     "metadata": {
      "needs_background": "light"
     },
     "output_type": "display_data"
    }
   ],
   "source": [
    "#plot the loss over the training and test set\n",
    "results[['loss','val_loss']].plot()\n",
    "plt.title('Model Loss Plot')\n",
    "plt.xlabel('Epochs')\n",
    "plt.ylabel('Loss')\n",
    "plt.grid()\n",
    "plt.show()"
   ]
  },
  {
   "cell_type": "markdown",
   "id": "992a9522",
   "metadata": {
    "papermill": {
     "duration": 0.063945,
     "end_time": "2021-07-18T12:29:01.074993",
     "exception": false,
     "start_time": "2021-07-18T12:29:01.011048",
     "status": "completed"
    },
    "tags": []
   },
   "source": [
    "<a name='6'></a>\n",
    "## _6 - Conclusion_\n",
    "- For face recognition task, usage of detection models to generate the face embeddings is always the most preferred solution. However, data preparation for facenet model led to distortion in the image resulting in poor classification performance. \n",
    "- The current problem is solved using the image classification mechanism and without the use of any pre-trained classification model\n",
    "- Functional API instead of the Sequential API used. Adding kernel regularizer to the dense layer provided a much better performance. \n",
    "- Custom callback defined as the model checkpoint. "
   ]
  },
  {
   "cell_type": "code",
   "execution_count": null,
   "id": "d87b069e",
   "metadata": {
    "papermill": {
     "duration": 0.06415,
     "end_time": "2021-07-18T12:29:01.203938",
     "exception": false,
     "start_time": "2021-07-18T12:29:01.139788",
     "status": "completed"
    },
    "tags": []
   },
   "outputs": [],
   "source": []
  },
  {
   "cell_type": "code",
   "execution_count": null,
   "id": "e76a9dd8",
   "metadata": {
    "papermill": {
     "duration": 0.063948,
     "end_time": "2021-07-18T12:29:01.332614",
     "exception": false,
     "start_time": "2021-07-18T12:29:01.268666",
     "status": "completed"
    },
    "tags": []
   },
   "outputs": [],
   "source": []
  }
 ],
 "metadata": {
  "kernelspec": {
   "display_name": "Python 3",
   "language": "python",
   "name": "python3"
  },
  "language_info": {
   "codemirror_mode": {
    "name": "ipython",
    "version": 3
   },
   "file_extension": ".py",
   "mimetype": "text/x-python",
   "name": "python",
   "nbconvert_exporter": "python",
   "pygments_lexer": "ipython3",
   "version": "3.7.10"
  },
  "papermill": {
   "default_parameters": {},
   "duration": 58.927729,
   "end_time": "2021-07-18T12:29:03.612251",
   "environment_variables": {},
   "exception": null,
   "input_path": "__notebook__.ipynb",
   "output_path": "__notebook__.ipynb",
   "parameters": {},
   "start_time": "2021-07-18T12:28:04.684522",
   "version": "2.3.3"
  }
 },
 "nbformat": 4,
 "nbformat_minor": 5
}
